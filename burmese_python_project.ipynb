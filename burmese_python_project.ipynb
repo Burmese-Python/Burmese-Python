{
 "cells": [
  {
   "cell_type": "code",
   "execution_count": 1,
   "metadata": {},
   "outputs": [],
   "source": [
    "import pandas as pd\n",
    "import datetime\n",
    "import numpy as np\n",
    "import statsmodels.api as sm"
   ]
  },
  {
   "cell_type": "code",
   "execution_count": 2,
   "metadata": {},
   "outputs": [],
   "source": [
    "# For Graphics\n",
    "%matplotlib inline\n",
    "import matplotlib.pyplot as plt\n",
    "import seaborn as sns\n",
    "sns.set()"
   ]
  },
  {
   "cell_type": "markdown",
   "metadata": {},
   "source": [
    "## "
   ]
  },
  {
   "cell_type": "code",
   "execution_count": 3,
   "metadata": {},
   "outputs": [],
   "source": [
    "data = pd.read_csv('pythons.csv')"
   ]
  },
  {
   "cell_type": "code",
   "execution_count": 4,
   "metadata": {},
   "outputs": [
    {
     "data": {
      "text/plain": [
       "(4798, 54)"
      ]
     },
     "execution_count": 4,
     "metadata": {},
     "output_type": "execute_result"
    }
   ],
   "source": [
    "data.shape"
   ]
  },
  {
   "cell_type": "code",
   "execution_count": 5,
   "metadata": {},
   "outputs": [
    {
     "data": {
      "text/plain": [
       "Index(['objectid', 'Reporter', 'ComName', 'SciName', 'OccStatus', 'ObsDate',\n",
       "       'DateAcc', 'DateEnt', 'DateUp', 'Location', 'Latitude', 'Longitude',\n",
       "       'Datum', 'CoordAcc', 'Method', 'DataType', 'LocalOwner', 'Habitat',\n",
       "       'Locality', 'Site', 'InfestAcre', 'GrossAcre', 'Abundance', 'Density',\n",
       "       'NumCollect', 'Percentcov', 'TreatArea', 'TreatComm', 'Quantity',\n",
       "       'QuantityU', 'TrapType', 'NumTraps', 'Comments', 'VisitType',\n",
       "       'CollectTme', 'Surveyor', 'RecSource', 'RecOwner', 'RecSrcTyp',\n",
       "       'OrigName', 'Nativity', 'Host', 'Host_Name', 'VerifyMthd', 'IDCred',\n",
       "       'Verified', 'Reviewer', 'ReviewDate', 'OrgSrcID', 'PID', 'Voucher',\n",
       "       'Museum', 'MuseumRec', 'Reference'],\n",
       "      dtype='object')"
      ]
     },
     "execution_count": 5,
     "metadata": {},
     "output_type": "execute_result"
    }
   ],
   "source": [
    "data.columns"
   ]
  },
  {
   "cell_type": "code",
   "execution_count": 6,
   "metadata": {},
   "outputs": [
    {
     "data": {
      "text/plain": [
       "DateAcc       4793\n",
       "DateUp        3614\n",
       "CoordAcc      4506\n",
       "Method        2695\n",
       "DataType      2479\n",
       "LocalOwner    4763\n",
       "Habitat       4236\n",
       "Locality      2296\n",
       "Site          4797\n",
       "InfestAcre    4681\n",
       "GrossAcre     4760\n",
       "Abundance     4798\n",
       "Density       4798\n",
       "NumCollect    1401\n",
       "Percentcov    4797\n",
       "TreatArea     4798\n",
       "TreatComm     4798\n",
       "Quantity      4687\n",
       "QuantityU     4687\n",
       "TrapType      4798\n",
       "NumTraps      4798\n",
       "Comments      2211\n",
       "VisitType     2711\n",
       "CollectTme    4570\n",
       "Surveyor      3246\n",
       "RecSource     4798\n",
       "OrigName      2510\n",
       "Host          4798\n",
       "Host_Name     4798\n",
       "VerifyMthd      70\n",
       "IDCred           4\n",
       "Reviewer      3922\n",
       "ReviewDate    3922\n",
       "OrgSrcID      4798\n",
       "PID           4798\n",
       "Voucher       4313\n",
       "Museum        2684\n",
       "MuseumRec     4225\n",
       "Reference     2480\n",
       "dtype: int64"
      ]
     },
     "execution_count": 6,
     "metadata": {},
     "output_type": "execute_result"
    }
   ],
   "source": [
    "col_nan = list(data.columns[data.isnull().any()])\n",
    "null_col = data[col_nan]\n",
    "null_col.isnull().sum()"
   ]
  },
  {
   "cell_type": "code",
   "execution_count": 7,
   "metadata": {},
   "outputs": [
    {
     "data": {
      "text/plain": [
       "objectid        int64\n",
       "Reporter       object\n",
       "ComName        object\n",
       "SciName        object\n",
       "OccStatus      object\n",
       "ObsDate        object\n",
       "DateAcc       float64\n",
       "DateEnt        object\n",
       "DateUp         object\n",
       "Location       object\n",
       "Latitude      float64\n",
       "Longitude     float64\n",
       "Datum          object\n",
       "CoordAcc      float64\n",
       "Method         object\n",
       "DataType       object\n",
       "LocalOwner     object\n",
       "Habitat        object\n",
       "Locality       object\n",
       "Site           object\n",
       "InfestAcre    float64\n",
       "GrossAcre     float64\n",
       "Abundance     float64\n",
       "Density       float64\n",
       "NumCollect     object\n",
       "Percentcov     object\n",
       "TreatArea     float64\n",
       "TreatComm     float64\n",
       "Quantity      float64\n",
       "QuantityU      object\n",
       "TrapType      float64\n",
       "NumTraps      float64\n",
       "Comments       object\n",
       "VisitType      object\n",
       "CollectTme    float64\n",
       "Surveyor       object\n",
       "RecSource     float64\n",
       "RecOwner       object\n",
       "RecSrcTyp      object\n",
       "OrigName       object\n",
       "Nativity       object\n",
       "Host          float64\n",
       "Host_Name     float64\n",
       "VerifyMthd     object\n",
       "IDCred         object\n",
       "Verified       object\n",
       "Reviewer       object\n",
       "ReviewDate     object\n",
       "OrgSrcID      float64\n",
       "PID           float64\n",
       "Voucher       float64\n",
       "Museum         object\n",
       "MuseumRec      object\n",
       "Reference      object\n",
       "dtype: object"
      ]
     },
     "execution_count": 7,
     "metadata": {},
     "output_type": "execute_result"
    }
   ],
   "source": [
    "data.dtypes"
   ]
  },
  {
   "cell_type": "markdown",
   "metadata": {},
   "source": [
    "## Client would like to know, among other things:\n"
   ]
  },
  {
   "cell_type": "markdown",
   "metadata": {},
   "source": [
    "### 1.  Are sightings of Burmese pythons in the wild increasing? (Client wants an analysis with visualizations)\n",
    "\n",
    "\n",
    "We create a pivot tables, where the rows are years and columns, value will be counts:\n",
    "* The column that we would analyise is ObsDate\n",
    "* If there is Nan Value we are going to replace wit the value in DateEnt."
   ]
  },
  {
   "cell_type": "code",
   "execution_count": 8,
   "metadata": {},
   "outputs": [],
   "source": [
    "data['ObsYear'] = pd.DatetimeIndex(data['ObsDate']).year\n",
    "data['ObsMonth'] = pd.DatetimeIndex(data['ObsDate']).month\n",
    "data['ObsDay'] = pd.DatetimeIndex(data['ObsDate']).day"
   ]
  },
  {
   "cell_type": "code",
   "execution_count": 9,
   "metadata": {},
   "outputs": [],
   "source": [
    "data_obs_date = pd.pivot_table(\n",
    "    data,\n",
    "    index = ['ObsYear','ObsMonth'],\n",
    "    values = 'objectid',\n",
    "    aggfunc = len\n",
    ")\n",
    "obs_date_pivot = data_obs_date.reset_index().sort_values(by = ['ObsYear','ObsMonth'], ascending = True)"
   ]
  },
  {
   "cell_type": "code",
   "execution_count": 10,
   "metadata": {},
   "outputs": [
    {
     "data": {
      "text/html": [
       "<div>\n",
       "<style scoped>\n",
       "    .dataframe tbody tr th:only-of-type {\n",
       "        vertical-align: middle;\n",
       "    }\n",
       "\n",
       "    .dataframe tbody tr th {\n",
       "        vertical-align: top;\n",
       "    }\n",
       "\n",
       "    .dataframe thead th {\n",
       "        text-align: right;\n",
       "    }\n",
       "</style>\n",
       "<table border=\"1\" class=\"dataframe\">\n",
       "  <thead>\n",
       "    <tr style=\"text-align: right;\">\n",
       "      <th></th>\n",
       "      <th>ObsYear</th>\n",
       "      <th>ObsMonth</th>\n",
       "      <th>objectid</th>\n",
       "      <th>Obs_Year-Month</th>\n",
       "    </tr>\n",
       "  </thead>\n",
       "  <tbody>\n",
       "    <tr>\n",
       "      <th>0</th>\n",
       "      <td>1979</td>\n",
       "      <td>10</td>\n",
       "      <td>1</td>\n",
       "      <td>1979-10-01</td>\n",
       "    </tr>\n",
       "    <tr>\n",
       "      <th>1</th>\n",
       "      <td>1995</td>\n",
       "      <td>12</td>\n",
       "      <td>1</td>\n",
       "      <td>1995-12-01</td>\n",
       "    </tr>\n",
       "    <tr>\n",
       "      <th>2</th>\n",
       "      <td>1996</td>\n",
       "      <td>2</td>\n",
       "      <td>1</td>\n",
       "      <td>1996-02-01</td>\n",
       "    </tr>\n",
       "    <tr>\n",
       "      <th>3</th>\n",
       "      <td>1996</td>\n",
       "      <td>11</td>\n",
       "      <td>1</td>\n",
       "      <td>1996-11-01</td>\n",
       "    </tr>\n",
       "    <tr>\n",
       "      <th>4</th>\n",
       "      <td>1997</td>\n",
       "      <td>11</td>\n",
       "      <td>4</td>\n",
       "      <td>1997-11-01</td>\n",
       "    </tr>\n",
       "    <tr>\n",
       "      <th>5</th>\n",
       "      <td>1998</td>\n",
       "      <td>5</td>\n",
       "      <td>1</td>\n",
       "      <td>1998-05-01</td>\n",
       "    </tr>\n",
       "    <tr>\n",
       "      <th>6</th>\n",
       "      <td>1998</td>\n",
       "      <td>8</td>\n",
       "      <td>1</td>\n",
       "      <td>1998-08-01</td>\n",
       "    </tr>\n",
       "    <tr>\n",
       "      <th>7</th>\n",
       "      <td>1999</td>\n",
       "      <td>2</td>\n",
       "      <td>2</td>\n",
       "      <td>1999-02-01</td>\n",
       "    </tr>\n",
       "    <tr>\n",
       "      <th>8</th>\n",
       "      <td>1999</td>\n",
       "      <td>12</td>\n",
       "      <td>1</td>\n",
       "      <td>1999-12-01</td>\n",
       "    </tr>\n",
       "    <tr>\n",
       "      <th>9</th>\n",
       "      <td>2000</td>\n",
       "      <td>1</td>\n",
       "      <td>2</td>\n",
       "      <td>2000-01-01</td>\n",
       "    </tr>\n",
       "  </tbody>\n",
       "</table>\n",
       "</div>"
      ],
      "text/plain": [
       "   ObsYear  ObsMonth  objectid Obs_Year-Month\n",
       "0     1979        10         1     1979-10-01\n",
       "1     1995        12         1     1995-12-01\n",
       "2     1996         2         1     1996-02-01\n",
       "3     1996        11         1     1996-11-01\n",
       "4     1997        11         4     1997-11-01\n",
       "5     1998         5         1     1998-05-01\n",
       "6     1998         8         1     1998-08-01\n",
       "7     1999         2         2     1999-02-01\n",
       "8     1999        12         1     1999-12-01\n",
       "9     2000         1         2     2000-01-01"
      ]
     },
     "execution_count": 10,
     "metadata": {},
     "output_type": "execute_result"
    }
   ],
   "source": [
    "obs_date_pivot.head(10)\n",
    "obs_date_pivot['Obs_Year-Month'] = pd.to_datetime(obs_date_pivot['ObsYear'].astype(str)  + obs_date_pivot['ObsMonth'].astype(str), format='%Y%m')\n",
    "obs_date_pivot.head(10)"
   ]
  },
  {
   "cell_type": "code",
   "execution_count": null,
   "metadata": {},
   "outputs": [],
   "source": []
  },
  {
   "cell_type": "code",
   "execution_count": 42,
   "metadata": {},
   "outputs": [
    {
     "data": {
      "text/plain": [
       "Text(0, 0.5, 'Number of sightings')"
      ]
     },
     "execution_count": 42,
     "metadata": {},
     "output_type": "execute_result"
    },
    {
     "data": {
      "image/png": "[encoded data removed]",
      "text/plain": [
       "<Figure size 1440x576 with 1 Axes>"
      ]
     },
     "metadata": {
      "needs_background": "light"
     },
     "output_type": "display_data"
    }
   ],
   "source": [
    "plt.figure(figsize=(20,8))\n",
    "obs_date = sns.lineplot(x='Obs_Year-Month', y = 'objectid', data=obs_date_pivot, color=\"b\")\n",
    "obs_date.set_xlabel('Obs_Year-Month')\n",
    "obs_date.set_ylabel(\"Number of sightings\")"
   ]
  },
  {
   "cell_type": "markdown",
   "metadata": {},
   "source": [
    "There is a tendecy that the seens have been growing, at the end there is a reduction it could be because there is recent data so there is less inputs"
   ]
  },
  {
   "cell_type": "markdown",
   "metadata": {},
   "source": [
    "We create a column with date_range,"
   ]
  },
  {
   "cell_type": "markdown",
   "metadata": {},
   "source": [
    "### 4. When are people most likely to spot pythons, and why? (Analysis + viz)"
   ]
  },
  {
   "cell_type": "code",
   "execution_count": 12,
   "metadata": {},
   "outputs": [],
   "source": [
    "data_obs_year = pd.pivot_table(\n",
    "    data,\n",
    "    index = ['ObsYear'],\n",
    "    values = 'objectid',\n",
    "    aggfunc = len\n",
    ")\n",
    "obs_year_pivot = data_obs_year.reset_index().sort_values(by = 'objectid', ascending = False)"
   ]
  },
  {
   "cell_type": "markdown",
   "metadata": {},
   "source": []
  },
  {
   "cell_type": "code",
   "execution_count": 13,
   "metadata": {},
   "outputs": [
    {
     "data": {
      "text/plain": [
       "[2016, 2017, 2018, 2008, 2009, 2010, 2013, 2015]"
      ]
     },
     "execution_count": 13,
     "metadata": {},
     "output_type": "execute_result"
    }
   ],
   "source": [
    "top_years = list(set(obs_year_pivot['ObsYear'].head(8)))\n",
    "top_years"
   ]
  },
  {
   "cell_type": "code",
   "execution_count": 14,
   "metadata": {},
   "outputs": [
    {
     "data": {
      "text/html": [
       "<div>\n",
       "<style scoped>\n",
       "    .dataframe tbody tr th:only-of-type {\n",
       "        vertical-align: middle;\n",
       "    }\n",
       "\n",
       "    .dataframe tbody tr th {\n",
       "        vertical-align: top;\n",
       "    }\n",
       "\n",
       "    .dataframe thead th {\n",
       "        text-align: right;\n",
       "    }\n",
       "</style>\n",
       "<table border=\"1\" class=\"dataframe\">\n",
       "  <thead>\n",
       "    <tr style=\"text-align: right;\">\n",
       "      <th></th>\n",
       "      <th>objectid</th>\n",
       "      <th>Reporter</th>\n",
       "      <th>ComName</th>\n",
       "      <th>SciName</th>\n",
       "      <th>OccStatus</th>\n",
       "      <th>ObsDate</th>\n",
       "      <th>DateAcc</th>\n",
       "      <th>DateEnt</th>\n",
       "      <th>DateUp</th>\n",
       "      <th>Location</th>\n",
       "      <th>...</th>\n",
       "      <th>ReviewDate</th>\n",
       "      <th>OrgSrcID</th>\n",
       "      <th>PID</th>\n",
       "      <th>Voucher</th>\n",
       "      <th>Museum</th>\n",
       "      <th>MuseumRec</th>\n",
       "      <th>Reference</th>\n",
       "      <th>ObsYear</th>\n",
       "      <th>ObsMonth</th>\n",
       "      <th>ObsDay</th>\n",
       "    </tr>\n",
       "  </thead>\n",
       "  <tbody>\n",
       "    <tr>\n",
       "      <th>40</th>\n",
       "      <td>8275470</td>\n",
       "      <td>matthew mccollister National Park Service, Big...</td>\n",
       "      <td>Burmese python</td>\n",
       "      <td>Python molurus ssp. bivittatus</td>\n",
       "      <td>Positive</td>\n",
       "      <td>13 Aug 2018</td>\n",
       "      <td>NaN</td>\n",
       "      <td>27 Sep 2019</td>\n",
       "      <td>27 Sep 2019</td>\n",
       "      <td>Miami-Dade, Florida, United States</td>\n",
       "      <td>...</td>\n",
       "      <td>27 Sep 2019</td>\n",
       "      <td>NaN</td>\n",
       "      <td>NaN</td>\n",
       "      <td>NaN</td>\n",
       "      <td>NaN</td>\n",
       "      <td>NaN</td>\n",
       "      <td>NaN</td>\n",
       "      <td>2018</td>\n",
       "      <td>8</td>\n",
       "      <td>13</td>\n",
       "    </tr>\n",
       "    <tr>\n",
       "      <th>62</th>\n",
       "      <td>8251562</td>\n",
       "      <td>FWCC Exotic Species Database Florida Fish and ...</td>\n",
       "      <td>Burmese python</td>\n",
       "      <td>Python molurus ssp. bivittatus</td>\n",
       "      <td>Treated</td>\n",
       "      <td>27 May 2017</td>\n",
       "      <td>NaN</td>\n",
       "      <td>03 Aug 2019</td>\n",
       "      <td>NaN</td>\n",
       "      <td>Miami-Dade, Florida, United States</td>\n",
       "      <td>...</td>\n",
       "      <td>NaN</td>\n",
       "      <td>NaN</td>\n",
       "      <td>NaN</td>\n",
       "      <td>NaN</td>\n",
       "      <td>NaN</td>\n",
       "      <td>NaN</td>\n",
       "      <td>NaN</td>\n",
       "      <td>2017</td>\n",
       "      <td>5</td>\n",
       "      <td>27</td>\n",
       "    </tr>\n",
       "    <tr>\n",
       "      <th>63</th>\n",
       "      <td>8251561</td>\n",
       "      <td>FWCC Exotic Species Database Florida Fish and ...</td>\n",
       "      <td>Burmese python</td>\n",
       "      <td>Python molurus ssp. bivittatus</td>\n",
       "      <td>Treated</td>\n",
       "      <td>15 May 2017</td>\n",
       "      <td>NaN</td>\n",
       "      <td>03 Aug 2019</td>\n",
       "      <td>NaN</td>\n",
       "      <td>Miami-Dade, Florida, United States</td>\n",
       "      <td>...</td>\n",
       "      <td>NaN</td>\n",
       "      <td>NaN</td>\n",
       "      <td>NaN</td>\n",
       "      <td>NaN</td>\n",
       "      <td>NaN</td>\n",
       "      <td>NaN</td>\n",
       "      <td>NaN</td>\n",
       "      <td>2017</td>\n",
       "      <td>5</td>\n",
       "      <td>15</td>\n",
       "    </tr>\n",
       "    <tr>\n",
       "      <th>64</th>\n",
       "      <td>8251560</td>\n",
       "      <td>FWCC Exotic Species Database Florida Fish and ...</td>\n",
       "      <td>Burmese python</td>\n",
       "      <td>Python molurus ssp. bivittatus</td>\n",
       "      <td>Treated</td>\n",
       "      <td>10 May 2017</td>\n",
       "      <td>NaN</td>\n",
       "      <td>03 Aug 2019</td>\n",
       "      <td>NaN</td>\n",
       "      <td>Miami-Dade, Florida, United States</td>\n",
       "      <td>...</td>\n",
       "      <td>NaN</td>\n",
       "      <td>NaN</td>\n",
       "      <td>NaN</td>\n",
       "      <td>NaN</td>\n",
       "      <td>NaN</td>\n",
       "      <td>NaN</td>\n",
       "      <td>NaN</td>\n",
       "      <td>2017</td>\n",
       "      <td>5</td>\n",
       "      <td>10</td>\n",
       "    </tr>\n",
       "    <tr>\n",
       "      <th>65</th>\n",
       "      <td>8251559</td>\n",
       "      <td>FWCC Exotic Species Database Florida Fish and ...</td>\n",
       "      <td>Burmese python</td>\n",
       "      <td>Python molurus ssp. bivittatus</td>\n",
       "      <td>Treated</td>\n",
       "      <td>07 May 2017</td>\n",
       "      <td>NaN</td>\n",
       "      <td>03 Aug 2019</td>\n",
       "      <td>NaN</td>\n",
       "      <td>Miami-Dade, Florida, United States</td>\n",
       "      <td>...</td>\n",
       "      <td>NaN</td>\n",
       "      <td>NaN</td>\n",
       "      <td>NaN</td>\n",
       "      <td>NaN</td>\n",
       "      <td>NaN</td>\n",
       "      <td>NaN</td>\n",
       "      <td>NaN</td>\n",
       "      <td>2017</td>\n",
       "      <td>5</td>\n",
       "      <td>7</td>\n",
       "    </tr>\n",
       "  </tbody>\n",
       "</table>\n",
       "<p>5 rows × 57 columns</p>\n",
       "</div>"
      ],
      "text/plain": [
       "    objectid                                           Reporter  \\\n",
       "40   8275470  matthew mccollister National Park Service, Big...   \n",
       "62   8251562  FWCC Exotic Species Database Florida Fish and ...   \n",
       "63   8251561  FWCC Exotic Species Database Florida Fish and ...   \n",
       "64   8251560  FWCC Exotic Species Database Florida Fish and ...   \n",
       "65   8251559  FWCC Exotic Species Database Florida Fish and ...   \n",
       "\n",
       "           ComName                         SciName OccStatus      ObsDate  \\\n",
       "40  Burmese python  Python molurus ssp. bivittatus  Positive  13 Aug 2018   \n",
       "62  Burmese python  Python molurus ssp. bivittatus   Treated  27 May 2017   \n",
       "63  Burmese python  Python molurus ssp. bivittatus   Treated  15 May 2017   \n",
       "64  Burmese python  Python molurus ssp. bivittatus   Treated  10 May 2017   \n",
       "65  Burmese python  Python molurus ssp. bivittatus   Treated  07 May 2017   \n",
       "\n",
       "    DateAcc      DateEnt       DateUp                            Location  \\\n",
       "40      NaN  27 Sep 2019  27 Sep 2019  Miami-Dade, Florida, United States   \n",
       "62      NaN  03 Aug 2019          NaN  Miami-Dade, Florida, United States   \n",
       "63      NaN  03 Aug 2019          NaN  Miami-Dade, Florida, United States   \n",
       "64      NaN  03 Aug 2019          NaN  Miami-Dade, Florida, United States   \n",
       "65      NaN  03 Aug 2019          NaN  Miami-Dade, Florida, United States   \n",
       "\n",
       "    ...   ReviewDate  OrgSrcID PID  Voucher Museum MuseumRec Reference  \\\n",
       "40  ...  27 Sep 2019       NaN NaN      NaN    NaN       NaN       NaN   \n",
       "62  ...          NaN       NaN NaN      NaN    NaN       NaN       NaN   \n",
       "63  ...          NaN       NaN NaN      NaN    NaN       NaN       NaN   \n",
       "64  ...          NaN       NaN NaN      NaN    NaN       NaN       NaN   \n",
       "65  ...          NaN       NaN NaN      NaN    NaN       NaN       NaN   \n",
       "\n",
       "   ObsYear ObsMonth ObsDay  \n",
       "40    2018        8     13  \n",
       "62    2017        5     27  \n",
       "63    2017        5     15  \n",
       "64    2017        5     10  \n",
       "65    2017        5      7  \n",
       "\n",
       "[5 rows x 57 columns]"
      ]
     },
     "execution_count": 14,
     "metadata": {},
     "output_type": "execute_result"
    }
   ],
   "source": [
    "top_years_data = data[data.ObsYear.isin(top_years)]\n",
    "top_years_data.head()"
   ]
  },
  {
   "cell_type": "code",
   "execution_count": 15,
   "metadata": {},
   "outputs": [
    {
     "name": "stdout",
     "output_type": "stream",
     "text": [
      "ObsYear   2008  2009  2010  2013  2015  2016  2017  2018   All\n",
      "ObsMonth                                                      \n",
      "1           14    16    73    21    34    31    36   108   333\n",
      "2           15     1    20     6    15    20    46    58   181\n",
      "3           11     8    24    15     5    17    38    14   132\n",
      "4           11     3     8    10    20    13    79    15   159\n",
      "5           23     9    11    24    26    37    96    45   271\n",
      "6           18    10    10    17    22    57    62    73   269\n",
      "7           17    34    15    24    25    48   137   125   425\n",
      "8           50    29    35    32    34    49   210   156   595\n",
      "9           22    46    11    25    20    37    25    50   236\n",
      "10          29    46    14     9    25    39    57    57   276\n",
      "11          49    45    20    17    27    19    85    43   305\n",
      "12          31    29    47    22    29    15    93    58   324\n",
      "All        290   276   288   222   282   382   964   802  3506\n"
     ]
    },
    {
     "data": {
      "text/html": [
       "<div>\n",
       "<style scoped>\n",
       "    .dataframe tbody tr th:only-of-type {\n",
       "        vertical-align: middle;\n",
       "    }\n",
       "\n",
       "    .dataframe tbody tr th {\n",
       "        vertical-align: top;\n",
       "    }\n",
       "\n",
       "    .dataframe thead th {\n",
       "        text-align: right;\n",
       "    }\n",
       "</style>\n",
       "<table border=\"1\" class=\"dataframe\">\n",
       "  <thead>\n",
       "    <tr style=\"text-align: right;\">\n",
       "      <th>ObsYear</th>\n",
       "      <th>2008</th>\n",
       "      <th>2009</th>\n",
       "      <th>2010</th>\n",
       "      <th>2013</th>\n",
       "      <th>2015</th>\n",
       "      <th>2016</th>\n",
       "      <th>2017</th>\n",
       "      <th>2018</th>\n",
       "      <th>All</th>\n",
       "    </tr>\n",
       "    <tr>\n",
       "      <th>ObsMonth</th>\n",
       "      <th></th>\n",
       "      <th></th>\n",
       "      <th></th>\n",
       "      <th></th>\n",
       "      <th></th>\n",
       "      <th></th>\n",
       "      <th></th>\n",
       "      <th></th>\n",
       "      <th></th>\n",
       "    </tr>\n",
       "  </thead>\n",
       "  <tbody>\n",
       "    <tr>\n",
       "      <th>1</th>\n",
       "      <td>14</td>\n",
       "      <td>16</td>\n",
       "      <td>73</td>\n",
       "      <td>21</td>\n",
       "      <td>34</td>\n",
       "      <td>31</td>\n",
       "      <td>36</td>\n",
       "      <td>108</td>\n",
       "      <td>333</td>\n",
       "    </tr>\n",
       "    <tr>\n",
       "      <th>2</th>\n",
       "      <td>15</td>\n",
       "      <td>1</td>\n",
       "      <td>20</td>\n",
       "      <td>6</td>\n",
       "      <td>15</td>\n",
       "      <td>20</td>\n",
       "      <td>46</td>\n",
       "      <td>58</td>\n",
       "      <td>181</td>\n",
       "    </tr>\n",
       "    <tr>\n",
       "      <th>3</th>\n",
       "      <td>11</td>\n",
       "      <td>8</td>\n",
       "      <td>24</td>\n",
       "      <td>15</td>\n",
       "      <td>5</td>\n",
       "      <td>17</td>\n",
       "      <td>38</td>\n",
       "      <td>14</td>\n",
       "      <td>132</td>\n",
       "    </tr>\n",
       "    <tr>\n",
       "      <th>4</th>\n",
       "      <td>11</td>\n",
       "      <td>3</td>\n",
       "      <td>8</td>\n",
       "      <td>10</td>\n",
       "      <td>20</td>\n",
       "      <td>13</td>\n",
       "      <td>79</td>\n",
       "      <td>15</td>\n",
       "      <td>159</td>\n",
       "    </tr>\n",
       "    <tr>\n",
       "      <th>5</th>\n",
       "      <td>23</td>\n",
       "      <td>9</td>\n",
       "      <td>11</td>\n",
       "      <td>24</td>\n",
       "      <td>26</td>\n",
       "      <td>37</td>\n",
       "      <td>96</td>\n",
       "      <td>45</td>\n",
       "      <td>271</td>\n",
       "    </tr>\n",
       "    <tr>\n",
       "      <th>6</th>\n",
       "      <td>18</td>\n",
       "      <td>10</td>\n",
       "      <td>10</td>\n",
       "      <td>17</td>\n",
       "      <td>22</td>\n",
       "      <td>57</td>\n",
       "      <td>62</td>\n",
       "      <td>73</td>\n",
       "      <td>269</td>\n",
       "    </tr>\n",
       "    <tr>\n",
       "      <th>7</th>\n",
       "      <td>17</td>\n",
       "      <td>34</td>\n",
       "      <td>15</td>\n",
       "      <td>24</td>\n",
       "      <td>25</td>\n",
       "      <td>48</td>\n",
       "      <td>137</td>\n",
       "      <td>125</td>\n",
       "      <td>425</td>\n",
       "    </tr>\n",
       "    <tr>\n",
       "      <th>8</th>\n",
       "      <td>50</td>\n",
       "      <td>29</td>\n",
       "      <td>35</td>\n",
       "      <td>32</td>\n",
       "      <td>34</td>\n",
       "      <td>49</td>\n",
       "      <td>210</td>\n",
       "      <td>156</td>\n",
       "      <td>595</td>\n",
       "    </tr>\n",
       "    <tr>\n",
       "      <th>9</th>\n",
       "      <td>22</td>\n",
       "      <td>46</td>\n",
       "      <td>11</td>\n",
       "      <td>25</td>\n",
       "      <td>20</td>\n",
       "      <td>37</td>\n",
       "      <td>25</td>\n",
       "      <td>50</td>\n",
       "      <td>236</td>\n",
       "    </tr>\n",
       "    <tr>\n",
       "      <th>10</th>\n",
       "      <td>29</td>\n",
       "      <td>46</td>\n",
       "      <td>14</td>\n",
       "      <td>9</td>\n",
       "      <td>25</td>\n",
       "      <td>39</td>\n",
       "      <td>57</td>\n",
       "      <td>57</td>\n",
       "      <td>276</td>\n",
       "    </tr>\n",
       "    <tr>\n",
       "      <th>11</th>\n",
       "      <td>49</td>\n",
       "      <td>45</td>\n",
       "      <td>20</td>\n",
       "      <td>17</td>\n",
       "      <td>27</td>\n",
       "      <td>19</td>\n",
       "      <td>85</td>\n",
       "      <td>43</td>\n",
       "      <td>305</td>\n",
       "    </tr>\n",
       "    <tr>\n",
       "      <th>12</th>\n",
       "      <td>31</td>\n",
       "      <td>29</td>\n",
       "      <td>47</td>\n",
       "      <td>22</td>\n",
       "      <td>29</td>\n",
       "      <td>15</td>\n",
       "      <td>93</td>\n",
       "      <td>58</td>\n",
       "      <td>324</td>\n",
       "    </tr>\n",
       "  </tbody>\n",
       "</table>\n",
       "</div>"
      ],
      "text/plain": [
       "ObsYear   2008  2009  2010  2013  2015  2016  2017  2018  All\n",
       "ObsMonth                                                     \n",
       "1           14    16    73    21    34    31    36   108  333\n",
       "2           15     1    20     6    15    20    46    58  181\n",
       "3           11     8    24    15     5    17    38    14  132\n",
       "4           11     3     8    10    20    13    79    15  159\n",
       "5           23     9    11    24    26    37    96    45  271\n",
       "6           18    10    10    17    22    57    62    73  269\n",
       "7           17    34    15    24    25    48   137   125  425\n",
       "8           50    29    35    32    34    49   210   156  595\n",
       "9           22    46    11    25    20    37    25    50  236\n",
       "10          29    46    14     9    25    39    57    57  276\n",
       "11          49    45    20    17    27    19    85    43  305\n",
       "12          31    29    47    22    29    15    93    58  324"
      ]
     },
     "execution_count": 15,
     "metadata": {},
     "output_type": "execute_result"
    }
   ],
   "source": [
    "data_month_topyears = pd.pivot_table(\n",
    "    top_years_data,\n",
    "    index = ['ObsMonth'],\n",
    "    columns = ['ObsYear'],\n",
    "    values = ['objectid'],\n",
    "    aggfunc = 'count',\n",
    "    margins = True\n",
    ")\n",
    "\n",
    "data_month_topyears.columns = data_month_topyears.columns.droplevel(0) # We got multiindex, we dropped one level\n",
    "print(data_month_topyears)\n",
    "data_month_topyears = data_month_topyears.head(12)\n",
    "data_month_topyears"
   ]
  },
  {
   "cell_type": "code",
   "execution_count": 16,
   "metadata": {},
   "outputs": [
    {
     "data": {
      "text/plain": [
       "<matplotlib.axes._subplots.AxesSubplot at 0x131d1b310>"
      ]
     },
     "execution_count": 16,
     "metadata": {},
     "output_type": "execute_result"
    },
    {
     "data": {
      "image/png": "[encoded data removed]",
      "text/plain": [
       "<Figure size 576x288 with 1 Axes>"
      ]
     },
     "metadata": {
      "needs_background": "light"
     },
     "output_type": "display_data"
    },
    {
     "data": {
      "image/png": "[encoded data removed]",
      "text/plain": [
       "<Figure size 576x432 with 1 Axes>"
      ]
     },
     "metadata": {
      "needs_background": "light"
     },
     "output_type": "display_data"
    }
   ],
   "source": [
    "data_month_topyears.plot(kind = 'line', figsize=(8, 4), y = ['All',2017,2018])\n",
    "data_month_topyears[top_years].plot(kind = 'bar', figsize=(8, 6))"
   ]
  },
  {
   "cell_type": "markdown",
   "metadata": {},
   "source": [
    "During the years we can observe that the month of August and July we can seen more burmese python, then jump to the winter month.\n",
    "There is a rare tendency, so we start selecting the data by year:, \n",
    "* All Data.\n",
    "* Top 10 years.\n",
    "* Top 5 years.\n",
    "* 2017 (Year with more sights)\n",
    "* 2018 (2nd Year with more sights)\n",
    "\n",
    "https://myfwc.com/wildlifehabitats/nonnatives/python/faqs/\n",
    "\n",
    "\n",
    "During `warm months` they like to stay in the water, but they are more active at night; most pythons are found crossing roads during late hours.\n",
    "\n",
    "`During cooler months` you can find them outside the water; they move away from the vegetation edges later on the day.\n",
    "\n",
    "`February, March, April` these are the breeding month, they stay close to the nest and water edges.\n",
    "\n",
    "\n",
    "So yes, there you can see that there is a seasonal tendecy that is why you can find more during the warm and cooler months."
   ]
  },
  {
   "cell_type": "markdown",
   "metadata": {},
   "source": [
    "### 5. Are sightings cyclical? (Analysis + viz)"
   ]
  },
  {
   "cell_type": "markdown",
   "metadata": {},
   "source": [
    "We are going to analyse [20`5 - 2018] period"
   ]
  },
  {
   "cell_type": "code",
   "execution_count": 17,
   "metadata": {
    "scrolled": true
   },
   "outputs": [
    {
     "data": {
      "text/html": [
       "<div>\n",
       "<style scoped>\n",
       "    .dataframe tbody tr th:only-of-type {\n",
       "        vertical-align: middle;\n",
       "    }\n",
       "\n",
       "    .dataframe tbody tr th {\n",
       "        vertical-align: top;\n",
       "    }\n",
       "\n",
       "    .dataframe thead th {\n",
       "        text-align: right;\n",
       "    }\n",
       "</style>\n",
       "<table border=\"1\" class=\"dataframe\">\n",
       "  <thead>\n",
       "    <tr style=\"text-align: right;\">\n",
       "      <th></th>\n",
       "      <th>objectid</th>\n",
       "      <th>Reporter</th>\n",
       "      <th>ComName</th>\n",
       "      <th>SciName</th>\n",
       "      <th>OccStatus</th>\n",
       "      <th>ObsDate</th>\n",
       "      <th>DateAcc</th>\n",
       "      <th>DateEnt</th>\n",
       "      <th>DateUp</th>\n",
       "      <th>Location</th>\n",
       "      <th>...</th>\n",
       "      <th>ReviewDate</th>\n",
       "      <th>OrgSrcID</th>\n",
       "      <th>PID</th>\n",
       "      <th>Voucher</th>\n",
       "      <th>Museum</th>\n",
       "      <th>MuseumRec</th>\n",
       "      <th>Reference</th>\n",
       "      <th>ObsYear</th>\n",
       "      <th>ObsMonth</th>\n",
       "      <th>ObsDay</th>\n",
       "    </tr>\n",
       "  </thead>\n",
       "  <tbody>\n",
       "    <tr>\n",
       "      <th>0</th>\n",
       "      <td>8303498</td>\n",
       "      <td>Travis Mangione FWC</td>\n",
       "      <td>Burmese python</td>\n",
       "      <td>Python molurus ssp. bivittatus</td>\n",
       "      <td>Positive</td>\n",
       "      <td>24 Nov 2019</td>\n",
       "      <td>NaN</td>\n",
       "      <td>26 Nov 2019</td>\n",
       "      <td>NaN</td>\n",
       "      <td>Miami-Dade, Florida, United States</td>\n",
       "      <td>...</td>\n",
       "      <td>05 Dec 2019</td>\n",
       "      <td>NaN</td>\n",
       "      <td>NaN</td>\n",
       "      <td>0.0</td>\n",
       "      <td>NaN</td>\n",
       "      <td>NaN</td>\n",
       "      <td>NaN</td>\n",
       "      <td>2019</td>\n",
       "      <td>11</td>\n",
       "      <td>24</td>\n",
       "    </tr>\n",
       "    <tr>\n",
       "      <th>1</th>\n",
       "      <td>8303147</td>\n",
       "      <td>Edward F. Metzger III</td>\n",
       "      <td>Burmese python</td>\n",
       "      <td>Python molurus ssp. bivittatus</td>\n",
       "      <td>Positive</td>\n",
       "      <td>20 Nov 2019</td>\n",
       "      <td>NaN</td>\n",
       "      <td>22 Nov 2019</td>\n",
       "      <td>22 Nov 2019</td>\n",
       "      <td>Broward, Florida, United States</td>\n",
       "      <td>...</td>\n",
       "      <td>05 Dec 2019</td>\n",
       "      <td>NaN</td>\n",
       "      <td>NaN</td>\n",
       "      <td>NaN</td>\n",
       "      <td>NaN</td>\n",
       "      <td>NaN</td>\n",
       "      <td>NaN</td>\n",
       "      <td>2019</td>\n",
       "      <td>11</td>\n",
       "      <td>20</td>\n",
       "    </tr>\n",
       "    <tr>\n",
       "      <th>2</th>\n",
       "      <td>8298008</td>\n",
       "      <td>Michael Reupert NPS  Big Cypress National Pres...</td>\n",
       "      <td>Burmese python</td>\n",
       "      <td>Python molurus ssp. bivittatus</td>\n",
       "      <td>Positive</td>\n",
       "      <td>07 Nov 2019</td>\n",
       "      <td>NaN</td>\n",
       "      <td>12 Nov 2019</td>\n",
       "      <td>NaN</td>\n",
       "      <td>Collier, Florida, United States</td>\n",
       "      <td>...</td>\n",
       "      <td>14 Nov 2019</td>\n",
       "      <td>NaN</td>\n",
       "      <td>NaN</td>\n",
       "      <td>0.0</td>\n",
       "      <td>HQ freezer                                    ...</td>\n",
       "      <td>NaN</td>\n",
       "      <td>NaN</td>\n",
       "      <td>2019</td>\n",
       "      <td>11</td>\n",
       "      <td>7</td>\n",
       "    </tr>\n",
       "    <tr>\n",
       "      <th>3</th>\n",
       "      <td>8295649</td>\n",
       "      <td>matthew mccollister National Park Service, Big...</td>\n",
       "      <td>Burmese python</td>\n",
       "      <td>Python molurus ssp. bivittatus</td>\n",
       "      <td>Positive</td>\n",
       "      <td>06 Nov 2019</td>\n",
       "      <td>NaN</td>\n",
       "      <td>07 Nov 2019</td>\n",
       "      <td>NaN</td>\n",
       "      <td>Collier, Florida, United States</td>\n",
       "      <td>...</td>\n",
       "      <td>08 Nov 2019</td>\n",
       "      <td>NaN</td>\n",
       "      <td>NaN</td>\n",
       "      <td>0.0</td>\n",
       "      <td>NaN</td>\n",
       "      <td>NaN</td>\n",
       "      <td>NaN</td>\n",
       "      <td>2019</td>\n",
       "      <td>11</td>\n",
       "      <td>6</td>\n",
       "    </tr>\n",
       "    <tr>\n",
       "      <th>4</th>\n",
       "      <td>8295647</td>\n",
       "      <td>matthew mccollister National Park Service, Big...</td>\n",
       "      <td>Burmese python</td>\n",
       "      <td>Python molurus ssp. bivittatus</td>\n",
       "      <td>Positive</td>\n",
       "      <td>05 Nov 2019</td>\n",
       "      <td>NaN</td>\n",
       "      <td>07 Nov 2019</td>\n",
       "      <td>NaN</td>\n",
       "      <td>Collier, Florida, United States</td>\n",
       "      <td>...</td>\n",
       "      <td>08 Nov 2019</td>\n",
       "      <td>NaN</td>\n",
       "      <td>NaN</td>\n",
       "      <td>0.0</td>\n",
       "      <td>NaN</td>\n",
       "      <td>NaN</td>\n",
       "      <td>NaN</td>\n",
       "      <td>2019</td>\n",
       "      <td>11</td>\n",
       "      <td>5</td>\n",
       "    </tr>\n",
       "  </tbody>\n",
       "</table>\n",
       "<p>5 rows × 57 columns</p>\n",
       "</div>"
      ],
      "text/plain": [
       "   objectid                                           Reporter  \\\n",
       "0   8303498                                Travis Mangione FWC   \n",
       "1   8303147                             Edward F. Metzger III    \n",
       "2   8298008  Michael Reupert NPS  Big Cypress National Pres...   \n",
       "3   8295649  matthew mccollister National Park Service, Big...   \n",
       "4   8295647  matthew mccollister National Park Service, Big...   \n",
       "\n",
       "          ComName                         SciName OccStatus      ObsDate  \\\n",
       "0  Burmese python  Python molurus ssp. bivittatus  Positive  24 Nov 2019   \n",
       "1  Burmese python  Python molurus ssp. bivittatus  Positive  20 Nov 2019   \n",
       "2  Burmese python  Python molurus ssp. bivittatus  Positive  07 Nov 2019   \n",
       "3  Burmese python  Python molurus ssp. bivittatus  Positive  06 Nov 2019   \n",
       "4  Burmese python  Python molurus ssp. bivittatus  Positive  05 Nov 2019   \n",
       "\n",
       "   DateAcc      DateEnt       DateUp                            Location  ...  \\\n",
       "0      NaN  26 Nov 2019          NaN  Miami-Dade, Florida, United States  ...   \n",
       "1      NaN  22 Nov 2019  22 Nov 2019     Broward, Florida, United States  ...   \n",
       "2      NaN  12 Nov 2019          NaN     Collier, Florida, United States  ...   \n",
       "3      NaN  07 Nov 2019          NaN     Collier, Florida, United States  ...   \n",
       "4      NaN  07 Nov 2019          NaN     Collier, Florida, United States  ...   \n",
       "\n",
       "    ReviewDate  OrgSrcID PID  Voucher  \\\n",
       "0  05 Dec 2019       NaN NaN      0.0   \n",
       "1  05 Dec 2019       NaN NaN      NaN   \n",
       "2  14 Nov 2019       NaN NaN      0.0   \n",
       "3  08 Nov 2019       NaN NaN      0.0   \n",
       "4  08 Nov 2019       NaN NaN      0.0   \n",
       "\n",
       "                                              Museum MuseumRec Reference  \\\n",
       "0                                                NaN       NaN       NaN   \n",
       "1                                                NaN       NaN       NaN   \n",
       "2  HQ freezer                                    ...       NaN       NaN   \n",
       "3                                                NaN       NaN       NaN   \n",
       "4                                                NaN       NaN       NaN   \n",
       "\n",
       "  ObsYear ObsMonth ObsDay  \n",
       "0    2019       11     24  \n",
       "1    2019       11     20  \n",
       "2    2019       11      7  \n",
       "3    2019       11      6  \n",
       "4    2019       11      5  \n",
       "\n",
       "[5 rows x 57 columns]"
      ]
     },
     "execution_count": 17,
     "metadata": {},
     "output_type": "execute_result"
    }
   ],
   "source": [
    "cyclical_analysis = data[data.ObsYear.isin(list(range(2008, 2020)))]\n",
    "cyclical_analysis.head()"
   ]
  },
  {
   "cell_type": "code",
   "execution_count": 18,
   "metadata": {},
   "outputs": [
    {
     "name": "stdout",
     "output_type": "stream",
     "text": [
      "(4210, 57)\n",
      "(4210, 56)\n"
     ]
    },
    {
     "name": "stderr",
     "output_type": "stream",
     "text": [
      "/usr/local/lib/python3.7/site-packages/ipykernel_launcher.py:3: SettingWithCopyWarning: \n",
      "A value is trying to be set on a copy of a slice from a DataFrame.\n",
      "Try using .loc[row_indexer,col_indexer] = value instead\n",
      "\n",
      "See the caveats in the documentation: http://pandas.pydata.org/pandas-docs/stable/indexing.html#indexing-view-versus-copy\n",
      "  This is separate from the ipykernel package so we can avoid doing imports until\n"
     ]
    }
   ],
   "source": [
    "print(cyclical_analysis.shape)\n",
    "\n",
    "cyclical_analysis['datetime'] = pd.to_datetime(cyclical_analysis['ObsDate'])\n",
    "cyclical_analysis = cyclical_analysis.set_index('datetime')\n",
    "cyclical_analysis.drop(['ObsDate'], axis=1, inplace=True)\n",
    "print(cyclical_analysis.shape)"
   ]
  },
  {
   "cell_type": "code",
   "execution_count": 19,
   "metadata": {},
   "outputs": [
    {
     "data": {
      "text/html": [
       "<div>\n",
       "<style scoped>\n",
       "    .dataframe tbody tr th:only-of-type {\n",
       "        vertical-align: middle;\n",
       "    }\n",
       "\n",
       "    .dataframe tbody tr th {\n",
       "        vertical-align: top;\n",
       "    }\n",
       "\n",
       "    .dataframe thead th {\n",
       "        text-align: right;\n",
       "    }\n",
       "</style>\n",
       "<table border=\"1\" class=\"dataframe\">\n",
       "  <thead>\n",
       "    <tr style=\"text-align: right;\">\n",
       "      <th></th>\n",
       "      <th>objectid</th>\n",
       "    </tr>\n",
       "    <tr>\n",
       "      <th>datetime</th>\n",
       "      <th></th>\n",
       "    </tr>\n",
       "  </thead>\n",
       "  <tbody>\n",
       "    <tr>\n",
       "      <th>2008-01-10</th>\n",
       "      <td>1</td>\n",
       "    </tr>\n",
       "    <tr>\n",
       "      <th>2008-01-12</th>\n",
       "      <td>1</td>\n",
       "    </tr>\n",
       "    <tr>\n",
       "      <th>2008-01-13</th>\n",
       "      <td>1</td>\n",
       "    </tr>\n",
       "    <tr>\n",
       "      <th>2008-01-14</th>\n",
       "      <td>1</td>\n",
       "    </tr>\n",
       "    <tr>\n",
       "      <th>2008-01-15</th>\n",
       "      <td>1</td>\n",
       "    </tr>\n",
       "    <tr>\n",
       "      <th>2008-01-16</th>\n",
       "      <td>4</td>\n",
       "    </tr>\n",
       "    <tr>\n",
       "      <th>2008-01-17</th>\n",
       "      <td>1</td>\n",
       "    </tr>\n",
       "    <tr>\n",
       "      <th>2008-01-18</th>\n",
       "      <td>1</td>\n",
       "    </tr>\n",
       "    <tr>\n",
       "      <th>2008-01-20</th>\n",
       "      <td>1</td>\n",
       "    </tr>\n",
       "    <tr>\n",
       "      <th>2008-01-28</th>\n",
       "      <td>1</td>\n",
       "    </tr>\n",
       "    <tr>\n",
       "      <th>2008-01-30</th>\n",
       "      <td>1</td>\n",
       "    </tr>\n",
       "    <tr>\n",
       "      <th>2008-02-02</th>\n",
       "      <td>1</td>\n",
       "    </tr>\n",
       "    <tr>\n",
       "      <th>2008-02-03</th>\n",
       "      <td>1</td>\n",
       "    </tr>\n",
       "    <tr>\n",
       "      <th>2008-02-04</th>\n",
       "      <td>1</td>\n",
       "    </tr>\n",
       "    <tr>\n",
       "      <th>2008-02-08</th>\n",
       "      <td>1</td>\n",
       "    </tr>\n",
       "    <tr>\n",
       "      <th>2008-02-14</th>\n",
       "      <td>1</td>\n",
       "    </tr>\n",
       "    <tr>\n",
       "      <th>2008-02-19</th>\n",
       "      <td>1</td>\n",
       "    </tr>\n",
       "    <tr>\n",
       "      <th>2008-02-20</th>\n",
       "      <td>1</td>\n",
       "    </tr>\n",
       "    <tr>\n",
       "      <th>2008-02-24</th>\n",
       "      <td>1</td>\n",
       "    </tr>\n",
       "    <tr>\n",
       "      <th>2008-02-25</th>\n",
       "      <td>1</td>\n",
       "    </tr>\n",
       "  </tbody>\n",
       "</table>\n",
       "</div>"
      ],
      "text/plain": [
       "            objectid\n",
       "datetime            \n",
       "2008-01-10         1\n",
       "2008-01-12         1\n",
       "2008-01-13         1\n",
       "2008-01-14         1\n",
       "2008-01-15         1\n",
       "2008-01-16         4\n",
       "2008-01-17         1\n",
       "2008-01-18         1\n",
       "2008-01-20         1\n",
       "2008-01-28         1\n",
       "2008-01-30         1\n",
       "2008-02-02         1\n",
       "2008-02-03         1\n",
       "2008-02-04         1\n",
       "2008-02-08         1\n",
       "2008-02-14         1\n",
       "2008-02-19         1\n",
       "2008-02-20         1\n",
       "2008-02-24         1\n",
       "2008-02-25         1"
      ]
     },
     "execution_count": 19,
     "metadata": {},
     "output_type": "execute_result"
    }
   ],
   "source": [
    "test = cyclical_analysis.groupby('datetime')[['objectid']].count()\n",
    "test.head(20)"
   ]
  },
  {
   "cell_type": "code",
   "execution_count": 20,
   "metadata": {},
   "outputs": [
    {
     "data": {
      "text/html": [
       "<div>\n",
       "<style scoped>\n",
       "    .dataframe tbody tr th:only-of-type {\n",
       "        vertical-align: middle;\n",
       "    }\n",
       "\n",
       "    .dataframe tbody tr th {\n",
       "        vertical-align: top;\n",
       "    }\n",
       "\n",
       "    .dataframe thead th {\n",
       "        text-align: right;\n",
       "    }\n",
       "</style>\n",
       "<table border=\"1\" class=\"dataframe\">\n",
       "  <thead>\n",
       "    <tr style=\"text-align: right;\">\n",
       "      <th></th>\n",
       "      <th>objectid</th>\n",
       "    </tr>\n",
       "    <tr>\n",
       "      <th>datetime</th>\n",
       "      <th></th>\n",
       "    </tr>\n",
       "  </thead>\n",
       "  <tbody>\n",
       "    <tr>\n",
       "      <th>2008-01-10</th>\n",
       "      <td>9</td>\n",
       "    </tr>\n",
       "    <tr>\n",
       "      <th>2008-01-24</th>\n",
       "      <td>5</td>\n",
       "    </tr>\n",
       "    <tr>\n",
       "      <th>2008-02-07</th>\n",
       "      <td>4</td>\n",
       "    </tr>\n",
       "    <tr>\n",
       "      <th>2008-02-21</th>\n",
       "      <td>4</td>\n",
       "    </tr>\n",
       "    <tr>\n",
       "      <th>2008-03-06</th>\n",
       "      <td>3</td>\n",
       "    </tr>\n",
       "    <tr>\n",
       "      <th>2008-03-20</th>\n",
       "      <td>4</td>\n",
       "    </tr>\n",
       "    <tr>\n",
       "      <th>2008-04-03</th>\n",
       "      <td>2</td>\n",
       "    </tr>\n",
       "    <tr>\n",
       "      <th>2008-04-17</th>\n",
       "      <td>5</td>\n",
       "    </tr>\n",
       "    <tr>\n",
       "      <th>2008-05-01</th>\n",
       "      <td>7</td>\n",
       "    </tr>\n",
       "    <tr>\n",
       "      <th>2008-05-15</th>\n",
       "      <td>4</td>\n",
       "    </tr>\n",
       "    <tr>\n",
       "      <th>2008-05-29</th>\n",
       "      <td>6</td>\n",
       "    </tr>\n",
       "    <tr>\n",
       "      <th>2008-06-12</th>\n",
       "      <td>7</td>\n",
       "    </tr>\n",
       "    <tr>\n",
       "      <th>2008-06-26</th>\n",
       "      <td>3</td>\n",
       "    </tr>\n",
       "    <tr>\n",
       "      <th>2008-07-10</th>\n",
       "      <td>4</td>\n",
       "    </tr>\n",
       "    <tr>\n",
       "      <th>2008-07-24</th>\n",
       "      <td>10</td>\n",
       "    </tr>\n",
       "    <tr>\n",
       "      <th>2008-08-07</th>\n",
       "      <td>7</td>\n",
       "    </tr>\n",
       "    <tr>\n",
       "      <th>2008-08-21</th>\n",
       "      <td>8</td>\n",
       "    </tr>\n",
       "    <tr>\n",
       "      <th>2008-09-04</th>\n",
       "      <td>9</td>\n",
       "    </tr>\n",
       "    <tr>\n",
       "      <th>2008-09-18</th>\n",
       "      <td>5</td>\n",
       "    </tr>\n",
       "    <tr>\n",
       "      <th>2008-10-02</th>\n",
       "      <td>6</td>\n",
       "    </tr>\n",
       "  </tbody>\n",
       "</table>\n",
       "</div>"
      ],
      "text/plain": [
       "            objectid\n",
       "datetime            \n",
       "2008-01-10         9\n",
       "2008-01-24         5\n",
       "2008-02-07         4\n",
       "2008-02-21         4\n",
       "2008-03-06         3\n",
       "2008-03-20         4\n",
       "2008-04-03         2\n",
       "2008-04-17         5\n",
       "2008-05-01         7\n",
       "2008-05-15         4\n",
       "2008-05-29         6\n",
       "2008-06-12         7\n",
       "2008-06-26         3\n",
       "2008-07-10         4\n",
       "2008-07-24        10\n",
       "2008-08-07         7\n",
       "2008-08-21         8\n",
       "2008-09-04         9\n",
       "2008-09-18         5\n",
       "2008-10-02         6"
      ]
     },
     "execution_count": 20,
     "metadata": {},
     "output_type": "execute_result"
    }
   ],
   "source": [
    "a = test.resample('14D').count()\n",
    "a.head(20)"
   ]
  },
  {
   "cell_type": "code",
   "execution_count": 21,
   "metadata": {},
   "outputs": [],
   "source": [
    "a = a.replace(0, None)"
   ]
  },
  {
   "cell_type": "code",
   "execution_count": 32,
   "metadata": {},
   "outputs": [
    {
     "data": {
      "text/plain": [
       "<matplotlib.axes._subplots.AxesSubplot at 0x13347b810>"
      ]
     },
     "execution_count": 32,
     "metadata": {},
     "output_type": "execute_result"
    },
    {
     "data": {
      "image/png": "[encoded data removed]",
      "text/plain": [
       "<Figure size 1440x720 with 1 Axes>"
      ]
     },
     "metadata": {
      "needs_background": "light"
     },
     "output_type": "display_data"
    }
   ],
   "source": [
    "a.reset_index().plot(x='datetime', y='objectid', figsize =(20,10))"
   ]
  },
  {
   "cell_type": "code",
   "execution_count": 23,
   "metadata": {},
   "outputs": [
    {
     "data": {
      "image/png": "[encoded data removed]",
      "text/plain": [
       "<Figure size 432x288 with 4 Axes>"
      ]
     },
     "metadata": {
      "needs_background": "light"
     },
     "output_type": "display_data"
    }
   ],
   "source": [
    "from statsmodels.tsa.seasonal import seasonal_decompose\n",
    "\n",
    "_ = seasonal_decompose(a).plot()"
   ]
  },
  {
   "cell_type": "markdown",
   "metadata": {},
   "source": [
    "Definetly the sigts are cyclical between the month; but yearly there is a trend, increasing from 2014 to 2017 when it reach its plateau, being lower 2018 and 2019."
   ]
  },
  {
   "cell_type": "markdown",
   "metadata": {},
   "source": [
    "### 6. How many python observations do you predict will be recorded for the full 2019 year? (time-series analysis)"
   ]
  },
  {
   "cell_type": "code",
   "execution_count": 24,
   "metadata": {},
   "outputs": [],
   "source": [
    "b = a['objectid']"
   ]
  },
  {
   "cell_type": "code",
   "execution_count": 25,
   "metadata": {},
   "outputs": [
    {
     "name": "stdout",
     "output_type": "stream",
     "text": [
      "datetime\n",
      "2008-01-10    9\n",
      "2008-01-24    5\n",
      "2008-02-07    4\n",
      "2008-02-21    4\n",
      "2008-03-06    3\n",
      "Freq: 14D, Name: objectid, dtype: int64 datetime\n",
      "2019-01-10    12\n",
      "2019-01-24    10\n",
      "2019-02-07     2\n",
      "2019-02-21     4\n",
      "2019-03-07     3\n",
      "Freq: 14D, Name: objectid, dtype: int64\n"
     ]
    }
   ],
   "source": [
    "train = b[:-23]\n",
    "test = b[-23:]\n",
    "\n",
    "print(train.head(), test.head())\n",
    "#Starting on 2008"
   ]
  },
  {
   "cell_type": "code",
   "execution_count": 26,
   "metadata": {
    "scrolled": true
   },
   "outputs": [
    {
     "data": {
      "text/html": [
       "<table class=\"simpletable\">\n",
       "<caption>ARMA Model Results</caption>\n",
       "<tr>\n",
       "  <th>Dep. Variable:</th>     <td>objectid</td>     <th>  No. Observations:  </th>    <td>287</td>  \n",
       "</tr>\n",
       "<tr>\n",
       "  <th>Model:</th>            <td>ARMA(2, 1)</td>    <th>  Log Likelihood     </th> <td>-671.693</td>\n",
       "</tr>\n",
       "<tr>\n",
       "  <th>Method:</th>             <td>css-mle</td>     <th>  S.D. of innovations</th>   <td>2.510</td> \n",
       "</tr>\n",
       "<tr>\n",
       "  <th>Date:</th>          <td>Mon, 09 Dec 2019</td> <th>  AIC                </th> <td>1353.386</td>\n",
       "</tr>\n",
       "<tr>\n",
       "  <th>Time:</th>              <td>20:05:27</td>     <th>  BIC                </th> <td>1371.684</td>\n",
       "</tr>\n",
       "<tr>\n",
       "  <th>Sample:</th>           <td>01-10-2008</td>    <th>  HQIC               </th> <td>1360.720</td>\n",
       "</tr>\n",
       "<tr>\n",
       "  <th></th>                 <td>- 12-27-2018</td>   <th>                     </th>     <td> </td>   \n",
       "</tr>\n",
       "</table>\n",
       "<table class=\"simpletable\">\n",
       "<tr>\n",
       "         <td></td>           <th>coef</th>     <th>std err</th>      <th>z</th>      <th>P>|z|</th>  <th>[0.025</th>    <th>0.975]</th>  \n",
       "</tr>\n",
       "<tr>\n",
       "  <th>const</th>          <td>    6.6453</td> <td>    0.534</td> <td>   12.438</td> <td> 0.000</td> <td>    5.598</td> <td>    7.692</td>\n",
       "</tr>\n",
       "<tr>\n",
       "  <th>ar.L1.objectid</th> <td>    0.5782</td> <td>    0.335</td> <td>    1.724</td> <td> 0.086</td> <td>   -0.079</td> <td>    1.235</td>\n",
       "</tr>\n",
       "<tr>\n",
       "  <th>ar.L2.objectid</th> <td>    0.1770</td> <td>    0.220</td> <td>    0.803</td> <td> 0.423</td> <td>   -0.255</td> <td>    0.609</td>\n",
       "</tr>\n",
       "<tr>\n",
       "  <th>ma.L1.objectid</th> <td>   -0.1069</td> <td>    0.345</td> <td>   -0.309</td> <td> 0.757</td> <td>   -0.784</td> <td>    0.570</td>\n",
       "</tr>\n",
       "</table>\n",
       "<table class=\"simpletable\">\n",
       "<caption>Roots</caption>\n",
       "<tr>\n",
       "    <td></td>   <th>            Real</th>  <th>         Imaginary</th> <th>         Modulus</th>  <th>        Frequency</th>\n",
       "</tr>\n",
       "<tr>\n",
       "  <th>AR.1</th> <td>           1.2506</td> <td>          +0.0000j</td> <td>           1.2506</td> <td>           0.0000</td>\n",
       "</tr>\n",
       "<tr>\n",
       "  <th>AR.2</th> <td>          -4.5168</td> <td>          +0.0000j</td> <td>           4.5168</td> <td>           0.5000</td>\n",
       "</tr>\n",
       "<tr>\n",
       "  <th>MA.1</th> <td>           9.3532</td> <td>          +0.0000j</td> <td>           9.3532</td> <td>           0.0000</td>\n",
       "</tr>\n",
       "</table>"
      ],
      "text/plain": [
       "<class 'statsmodels.iolib.summary.Summary'>\n",
       "\"\"\"\n",
       "                              ARMA Model Results                              \n",
       "==============================================================================\n",
       "Dep. Variable:               objectid   No. Observations:                  287\n",
       "Model:                     ARMA(2, 1)   Log Likelihood                -671.693\n",
       "Method:                       css-mle   S.D. of innovations              2.510\n",
       "Date:                Mon, 09 Dec 2019   AIC                           1353.386\n",
       "Time:                        20:05:27   BIC                           1371.684\n",
       "Sample:                    01-10-2008   HQIC                          1360.720\n",
       "                         - 12-27-2018                                         \n",
       "==================================================================================\n",
       "                     coef    std err          z      P>|z|      [0.025      0.975]\n",
       "----------------------------------------------------------------------------------\n",
       "const              6.6453      0.534     12.438      0.000       5.598       7.692\n",
       "ar.L1.objectid     0.5782      0.335      1.724      0.086      -0.079       1.235\n",
       "ar.L2.objectid     0.1770      0.220      0.803      0.423      -0.255       0.609\n",
       "ma.L1.objectid    -0.1069      0.345     -0.309      0.757      -0.784       0.570\n",
       "                                    Roots                                    \n",
       "=============================================================================\n",
       "                  Real          Imaginary           Modulus         Frequency\n",
       "-----------------------------------------------------------------------------\n",
       "AR.1            1.2506           +0.0000j            1.2506            0.0000\n",
       "AR.2           -4.5168           +0.0000j            4.5168            0.5000\n",
       "MA.1            9.3532           +0.0000j            9.3532            0.0000\n",
       "-----------------------------------------------------------------------------\n",
       "\"\"\""
      ]
     },
     "execution_count": 26,
     "metadata": {},
     "output_type": "execute_result"
    }
   ],
   "source": [
    "from statsmodels.tsa.arima_model import ARMA\n",
    "\n",
    "model = ARMA(\n",
    "    train,\n",
    "    order = (2,1) \n",
    ").fit()\n",
    "\n",
    "model.summary()"
   ]
  },
  {
   "cell_type": "code",
   "execution_count": 40,
   "metadata": {},
   "outputs": [
    {
     "data": {
      "text/html": [
       "<div>\n",
       "<style scoped>\n",
       "    .dataframe tbody tr th:only-of-type {\n",
       "        vertical-align: middle;\n",
       "    }\n",
       "\n",
       "    .dataframe tbody tr th {\n",
       "        vertical-align: top;\n",
       "    }\n",
       "\n",
       "    .dataframe thead th {\n",
       "        text-align: right;\n",
       "    }\n",
       "</style>\n",
       "<table border=\"1\" class=\"dataframe\">\n",
       "  <thead>\n",
       "    <tr style=\"text-align: right;\">\n",
       "      <th></th>\n",
       "      <th>observed</th>\n",
       "      <th>predicted</th>\n",
       "    </tr>\n",
       "    <tr>\n",
       "      <th>datetime</th>\n",
       "      <th></th>\n",
       "      <th></th>\n",
       "    </tr>\n",
       "  </thead>\n",
       "  <tbody>\n",
       "    <tr>\n",
       "      <th>2019-01-10</th>\n",
       "      <td>12</td>\n",
       "      <td>9.980170</td>\n",
       "    </tr>\n",
       "    <tr>\n",
       "      <th>2019-01-24</th>\n",
       "      <td>10</td>\n",
       "      <td>9.344482</td>\n",
       "    </tr>\n",
       "    <tr>\n",
       "      <th>2019-02-07</th>\n",
       "      <td>2</td>\n",
       "      <td>8.796376</td>\n",
       "    </tr>\n",
       "    <tr>\n",
       "      <th>2019-02-21</th>\n",
       "      <td>4</td>\n",
       "      <td>8.366916</td>\n",
       "    </tr>\n",
       "    <tr>\n",
       "      <th>2019-03-07</th>\n",
       "      <td>3</td>\n",
       "      <td>8.021564</td>\n",
       "    </tr>\n",
       "    <tr>\n",
       "      <th>2019-03-21</th>\n",
       "      <td>3</td>\n",
       "      <td>7.745847</td>\n",
       "    </tr>\n",
       "    <tr>\n",
       "      <th>2019-04-04</th>\n",
       "      <td>3</td>\n",
       "      <td>7.525285</td>\n",
       "    </tr>\n",
       "    <tr>\n",
       "      <th>2019-04-18</th>\n",
       "      <td>5</td>\n",
       "      <td>7.348943</td>\n",
       "    </tr>\n",
       "    <tr>\n",
       "      <th>2019-05-02</th>\n",
       "      <td>5</td>\n",
       "      <td>7.207932</td>\n",
       "    </tr>\n",
       "    <tr>\n",
       "      <th>2019-05-16</th>\n",
       "      <td>3</td>\n",
       "      <td>7.095179</td>\n",
       "    </tr>\n",
       "    <tr>\n",
       "      <th>2019-05-30</th>\n",
       "      <td>2</td>\n",
       "      <td>7.005021</td>\n",
       "    </tr>\n",
       "    <tr>\n",
       "      <th>2019-06-13</th>\n",
       "      <td>4</td>\n",
       "      <td>6.932929</td>\n",
       "    </tr>\n",
       "    <tr>\n",
       "      <th>2019-06-27</th>\n",
       "      <td>5</td>\n",
       "      <td>6.875283</td>\n",
       "    </tr>\n",
       "    <tr>\n",
       "      <th>2019-07-11</th>\n",
       "      <td>4</td>\n",
       "      <td>6.829189</td>\n",
       "    </tr>\n",
       "    <tr>\n",
       "      <th>2019-07-25</th>\n",
       "      <td>2</td>\n",
       "      <td>6.792331</td>\n",
       "    </tr>\n",
       "    <tr>\n",
       "      <th>2019-08-08</th>\n",
       "      <td>7</td>\n",
       "      <td>6.762860</td>\n",
       "    </tr>\n",
       "    <tr>\n",
       "      <th>2019-08-22</th>\n",
       "      <td>3</td>\n",
       "      <td>6.739294</td>\n",
       "    </tr>\n",
       "    <tr>\n",
       "      <th>2019-09-05</th>\n",
       "      <td>2</td>\n",
       "      <td>6.720450</td>\n",
       "    </tr>\n",
       "    <tr>\n",
       "      <th>2019-09-19</th>\n",
       "      <td>5</td>\n",
       "      <td>6.705383</td>\n",
       "    </tr>\n",
       "    <tr>\n",
       "      <th>2019-10-03</th>\n",
       "      <td>5</td>\n",
       "      <td>6.693334</td>\n",
       "    </tr>\n",
       "    <tr>\n",
       "      <th>2019-10-17</th>\n",
       "      <td>4</td>\n",
       "      <td>6.683700</td>\n",
       "    </tr>\n",
       "    <tr>\n",
       "      <th>2019-10-31</th>\n",
       "      <td>5</td>\n",
       "      <td>6.675997</td>\n",
       "    </tr>\n",
       "    <tr>\n",
       "      <th>2019-11-14</th>\n",
       "      <td>2</td>\n",
       "      <td>6.669837</td>\n",
       "    </tr>\n",
       "  </tbody>\n",
       "</table>\n",
       "</div>"
      ],
      "text/plain": [
       "            observed  predicted\n",
       "datetime                       \n",
       "2019-01-10        12   9.980170\n",
       "2019-01-24        10   9.344482\n",
       "2019-02-07         2   8.796376\n",
       "2019-02-21         4   8.366916\n",
       "2019-03-07         3   8.021564\n",
       "2019-03-21         3   7.745847\n",
       "2019-04-04         3   7.525285\n",
       "2019-04-18         5   7.348943\n",
       "2019-05-02         5   7.207932\n",
       "2019-05-16         3   7.095179\n",
       "2019-05-30         2   7.005021\n",
       "2019-06-13         4   6.932929\n",
       "2019-06-27         5   6.875283\n",
       "2019-07-11         4   6.829189\n",
       "2019-07-25         2   6.792331\n",
       "2019-08-08         7   6.762860\n",
       "2019-08-22         3   6.739294\n",
       "2019-09-05         2   6.720450\n",
       "2019-09-19         5   6.705383\n",
       "2019-10-03         5   6.693334\n",
       "2019-10-17         4   6.683700\n",
       "2019-10-31         5   6.675997\n",
       "2019-11-14         2   6.669837"
      ]
     },
     "execution_count": 40,
     "metadata": {},
     "output_type": "execute_result"
    }
   ],
   "source": [
    "predictions = model.predict(\n",
    "    start = len(train),\n",
    "    end = len(train) + len(test) -1\n",
    ")\n",
    "\n",
    "obs_pre = pd.DataFrame({\n",
    "    'observed' : test,\n",
    "    'predicted' : predictions\n",
    "})\n",
    "obs_pre"
   ]
  },
  {
   "cell_type": "code",
   "execution_count": 28,
   "metadata": {},
   "outputs": [
    {
     "data": {
      "text/plain": [
       "3.6546915384597845"
      ]
     },
     "execution_count": 28,
     "metadata": {},
     "output_type": "execute_result"
    }
   ],
   "source": [
    "from statsmodels.tools.eval_measures import rmse\n",
    "\n",
    "rmse(test, predictions)"
   ]
  },
  {
   "cell_type": "code",
   "execution_count": 29,
   "metadata": {},
   "outputs": [
    {
     "data": {
      "text/plain": [
       "<matplotlib.axes._subplots.AxesSubplot at 0x1332c6690>"
      ]
     },
     "execution_count": 29,
     "metadata": {},
     "output_type": "execute_result"
    },
    {
     "data": {
      "image/png": "[encoded data removed]",
      "text/plain": [
       "<Figure size 432x288 with 1 Axes>"
      ]
     },
     "metadata": {
      "needs_background": "light"
     },
     "output_type": "display_data"
    }
   ],
   "source": [
    "pd.plotting.autocorrelation_plot(test)"
   ]
  },
  {
   "cell_type": "code",
   "execution_count": 36,
   "metadata": {},
   "outputs": [
    {
     "data": {
      "image/png": "[encoded data removed]",
      "text/plain": [
       "<Figure size 432x288 with 1 Axes>"
      ]
     },
     "execution_count": 36,
     "metadata": {},
     "output_type": "execute_result"
    },
    {
     "data": {
      "image/png": "[encoded data removed]",
      "text/plain": [
       "<Figure size 432x288 with 1 Axes>"
      ]
     },
     "metadata": {
      "needs_background": "light"
     },
     "output_type": "display_data"
    }
   ],
   "source": [
    "model.plot_predict(\n",
    "    start = len(train),\n",
    "    end = len(train) + len(test) +2\n",
    ")"
   ]
  },
  {
   "cell_type": "code",
   "execution_count": 39,
   "metadata": {},
   "outputs": [
    {
     "data": {
      "text/plain": [
       "190.0"
      ]
     },
     "execution_count": 39,
     "metadata": {},
     "output_type": "execute_result"
    }
   ],
   "source": [
    "prediction2019 = predictions = model.predict(\n",
    "    start = len(train),\n",
    "    end = len(train) + len(test)+2\n",
    ")\n",
    "prediction2019.sum().round()"
   ]
  },
  {
   "cell_type": "code",
   "execution_count": 41,
   "metadata": {},
   "outputs": [
    {
     "data": {
      "text/plain": [
       "observed     100.0\n",
       "predicted    170.0\n",
       "dtype: float64"
      ]
     },
     "execution_count": 41,
     "metadata": {},
     "output_type": "execute_result"
    }
   ],
   "source": [
    "obs_pre.sum().round()"
   ]
  },
  {
   "cell_type": "code",
   "execution_count": null,
   "metadata": {},
   "outputs": [],
   "source": []
  }
 ],
 "metadata": {
  "kernelspec": {
   "display_name": "Python 3",
   "language": "python",
   "name": "python3"
  },
  "language_info": {
   "codemirror_mode": {
    "name": "ipython",
    "version": 3
   },
   "file_extension": ".py",
   "mimetype": "text/x-python",
   "name": "python",
   "nbconvert_exporter": "python",
   "pygments_lexer": "ipython3",
   "version": "3.7.4"
  }
 },
 "nbformat": 4,
 "nbformat_minor": 2
}
